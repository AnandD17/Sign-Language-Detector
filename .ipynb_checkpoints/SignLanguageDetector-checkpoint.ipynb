{
 "cells": [
  {
   "cell_type": "markdown",
   "id": "388c23bb",
   "metadata": {},
   "source": [
    "# Importing Dependencies"
   ]
  },
  {
   "cell_type": "code",
   "execution_count": 2,
   "id": "74c4b5e1",
   "metadata": {},
   "outputs": [],
   "source": [
    "import cv2\n",
    "# pip install cvzone\n",
    "# pip install mediapipe\n",
    "import numpy as np\n",
    "import math\n",
    "import time\n",
    "from cvzone.HandTrackingModule import HandDetector"
   ]
  },
  {
   "cell_type": "markdown",
   "id": "2e9abed1",
   "metadata": {},
   "source": [
    "# Data Collection"
   ]
  },
  {
   "cell_type": "markdown",
   "id": "bc3e8e4b",
   "metadata": {},
   "source": [
    "## Training Data Gathering"
   ]
  },
  {
   "cell_type": "code",
   "execution_count": 2,
   "id": "450caa58",
   "metadata": {},
   "outputs": [
    {
     "ename": "KeyboardInterrupt",
     "evalue": "",
     "output_type": "error",
     "traceback": [
      "\u001b[1;31m---------------------------------------------------------------------------\u001b[0m",
      "\u001b[1;31mKeyboardInterrupt\u001b[0m                         Traceback (most recent call last)",
      "Input \u001b[1;32mIn [2]\u001b[0m, in \u001b[0;36m<cell line: 10>\u001b[1;34m()\u001b[0m\n\u001b[0;32m     10\u001b[0m \u001b[38;5;28;01mwhile\u001b[39;00m \u001b[38;5;28;01mTrue\u001b[39;00m:\n\u001b[0;32m     11\u001b[0m     success,img\u001b[38;5;241m=\u001b[39mcapture\u001b[38;5;241m.\u001b[39mread()\n\u001b[1;32m---> 12\u001b[0m     hands,img\u001b[38;5;241m=\u001b[39m\u001b[43mdetector\u001b[49m\u001b[38;5;241;43m.\u001b[39;49m\u001b[43mfindHands\u001b[49m\u001b[43m(\u001b[49m\u001b[43mimg\u001b[49m\u001b[43m)\u001b[49m\n\u001b[0;32m     13\u001b[0m     \u001b[38;5;28;01mif\u001b[39;00m hands:\n\u001b[0;32m     14\u001b[0m         hand\u001b[38;5;241m=\u001b[39mhands[\u001b[38;5;241m0\u001b[39m]\n",
      "File \u001b[1;32m~\\AppData\\Local\\Programs\\Python\\Python310\\lib\\site-packages\\cvzone\\HandTrackingModule.py:49\u001b[0m, in \u001b[0;36mHandDetector.findHands\u001b[1;34m(self, img, draw, flipType)\u001b[0m\n\u001b[0;32m     42\u001b[0m \u001b[38;5;124;03m\"\"\"\u001b[39;00m\n\u001b[0;32m     43\u001b[0m \u001b[38;5;124;03mFinds hands in a BGR image.\u001b[39;00m\n\u001b[0;32m     44\u001b[0m \u001b[38;5;124;03m:param img: Image to find the hands in.\u001b[39;00m\n\u001b[0;32m     45\u001b[0m \u001b[38;5;124;03m:param draw: Flag to draw the output on the image.\u001b[39;00m\n\u001b[0;32m     46\u001b[0m \u001b[38;5;124;03m:return: Image with or without drawings\u001b[39;00m\n\u001b[0;32m     47\u001b[0m \u001b[38;5;124;03m\"\"\"\u001b[39;00m\n\u001b[0;32m     48\u001b[0m imgRGB \u001b[38;5;241m=\u001b[39m cv2\u001b[38;5;241m.\u001b[39mcvtColor(img, cv2\u001b[38;5;241m.\u001b[39mCOLOR_BGR2RGB)\n\u001b[1;32m---> 49\u001b[0m \u001b[38;5;28mself\u001b[39m\u001b[38;5;241m.\u001b[39mresults \u001b[38;5;241m=\u001b[39m \u001b[38;5;28;43mself\u001b[39;49m\u001b[38;5;241;43m.\u001b[39;49m\u001b[43mhands\u001b[49m\u001b[38;5;241;43m.\u001b[39;49m\u001b[43mprocess\u001b[49m\u001b[43m(\u001b[49m\u001b[43mimgRGB\u001b[49m\u001b[43m)\u001b[49m\n\u001b[0;32m     50\u001b[0m allHands \u001b[38;5;241m=\u001b[39m []\n\u001b[0;32m     51\u001b[0m h, w, c \u001b[38;5;241m=\u001b[39m img\u001b[38;5;241m.\u001b[39mshape\n",
      "File \u001b[1;32m~\\AppData\\Roaming\\Python\\Python310\\site-packages\\mediapipe\\python\\solutions\\hands.py:153\u001b[0m, in \u001b[0;36mHands.process\u001b[1;34m(self, image)\u001b[0m\n\u001b[0;32m    132\u001b[0m \u001b[38;5;28;01mdef\u001b[39;00m \u001b[38;5;21mprocess\u001b[39m(\u001b[38;5;28mself\u001b[39m, image: np\u001b[38;5;241m.\u001b[39mndarray) \u001b[38;5;241m-\u001b[39m\u001b[38;5;241m>\u001b[39m NamedTuple:\n\u001b[0;32m    133\u001b[0m   \u001b[38;5;124;03m\"\"\"Processes an RGB image and returns the hand landmarks and handedness of each detected hand.\u001b[39;00m\n\u001b[0;32m    134\u001b[0m \n\u001b[0;32m    135\u001b[0m \u001b[38;5;124;03m  Args:\u001b[39;00m\n\u001b[1;32m   (...)\u001b[0m\n\u001b[0;32m    150\u001b[0m \u001b[38;5;124;03m         right hand) of the detected hand.\u001b[39;00m\n\u001b[0;32m    151\u001b[0m \u001b[38;5;124;03m  \"\"\"\u001b[39;00m\n\u001b[1;32m--> 153\u001b[0m   \u001b[38;5;28;01mreturn\u001b[39;00m \u001b[38;5;28;43msuper\u001b[39;49m\u001b[43m(\u001b[49m\u001b[43m)\u001b[49m\u001b[38;5;241;43m.\u001b[39;49m\u001b[43mprocess\u001b[49m\u001b[43m(\u001b[49m\u001b[43minput_data\u001b[49m\u001b[38;5;241;43m=\u001b[39;49m\u001b[43m{\u001b[49m\u001b[38;5;124;43m'\u001b[39;49m\u001b[38;5;124;43mimage\u001b[39;49m\u001b[38;5;124;43m'\u001b[39;49m\u001b[43m:\u001b[49m\u001b[43m \u001b[49m\u001b[43mimage\u001b[49m\u001b[43m}\u001b[49m\u001b[43m)\u001b[49m\n",
      "File \u001b[1;32m~\\AppData\\Roaming\\Python\\Python310\\site-packages\\mediapipe\\python\\solution_base.py:364\u001b[0m, in \u001b[0;36mSolutionBase.process\u001b[1;34m(self, input_data)\u001b[0m\n\u001b[0;32m    358\u001b[0m   \u001b[38;5;28;01melse\u001b[39;00m:\n\u001b[0;32m    359\u001b[0m     \u001b[38;5;28mself\u001b[39m\u001b[38;5;241m.\u001b[39m_graph\u001b[38;5;241m.\u001b[39madd_packet_to_input_stream(\n\u001b[0;32m    360\u001b[0m         stream\u001b[38;5;241m=\u001b[39mstream_name,\n\u001b[0;32m    361\u001b[0m         packet\u001b[38;5;241m=\u001b[39m\u001b[38;5;28mself\u001b[39m\u001b[38;5;241m.\u001b[39m_make_packet(input_stream_type,\n\u001b[0;32m    362\u001b[0m                                  data)\u001b[38;5;241m.\u001b[39mat(\u001b[38;5;28mself\u001b[39m\u001b[38;5;241m.\u001b[39m_simulated_timestamp))\n\u001b[1;32m--> 364\u001b[0m \u001b[38;5;28;43mself\u001b[39;49m\u001b[38;5;241;43m.\u001b[39;49m\u001b[43m_graph\u001b[49m\u001b[38;5;241;43m.\u001b[39;49m\u001b[43mwait_until_idle\u001b[49m\u001b[43m(\u001b[49m\u001b[43m)\u001b[49m\n\u001b[0;32m    365\u001b[0m \u001b[38;5;66;03m# Create a NamedTuple object where the field names are mapping to the graph\u001b[39;00m\n\u001b[0;32m    366\u001b[0m \u001b[38;5;66;03m# output stream names.\u001b[39;00m\n\u001b[0;32m    367\u001b[0m solution_outputs \u001b[38;5;241m=\u001b[39m collections\u001b[38;5;241m.\u001b[39mnamedtuple(\n\u001b[0;32m    368\u001b[0m     \u001b[38;5;124m'\u001b[39m\u001b[38;5;124mSolutionOutputs\u001b[39m\u001b[38;5;124m'\u001b[39m, \u001b[38;5;28mself\u001b[39m\u001b[38;5;241m.\u001b[39m_output_stream_type_info\u001b[38;5;241m.\u001b[39mkeys())\n",
      "\u001b[1;31mKeyboardInterrupt\u001b[0m: "
     ]
    }
   ],
   "source": [
    "capture=cv2.VideoCapture(0)\n",
    "detector=HandDetector(maxHands=1)\n",
    "\n",
    "offset=20\n",
    "imageSIZE=300\n",
    "\n",
    "folder=\"dataset/c\"\n",
    "counter=0\n",
    "\n",
    "while True:\n",
    "    success,img=capture.read()\n",
    "    hands,img=detector.findHands(img)\n",
    "    if hands:\n",
    "        hand=hands[0]\n",
    "        x,y,w,h=hand['bbox']\n",
    "        \n",
    "        whiteImage=np.ones((imageSIZE,imageSIZE,3),np.uint8)*255\n",
    "        crop=img[y-offset:y+h+offset,x-offset:x+w+offset]\n",
    "        \n",
    "        aspectRatio=h/w\n",
    "        if aspectRatio>1:\n",
    "            k=imageSIZE/h\n",
    "            wcalc=math.ceil(k*w)\n",
    "            imgresize=cv2.resize(crop,(wcalc,imageSIZE))\n",
    "            wgap=math.ceil((imageSIZE -wcalc)/2)\n",
    "            whiteImage[0:,wgap:wcalc+wgap]=imgresize \n",
    "        else: \n",
    "            k=imageSIZE/h\n",
    "            hcalc=math.ceil(k*h)\n",
    "            imgresize=cv2.resize(crop,(imageSIZE,hcalc))\n",
    "            hgap=math.ceil((imageSIZE -hcalc)/2)\n",
    "            whiteImage[hgap:hcalc+hgap,:]=imgresize \n",
    "                \n",
    "        cv2.imshow(\"Cropped Image\",crop)\n",
    "        cv2.imshow(\"White Image\",whiteImage)\n",
    "    cv2.imshow(\"Image\",img)\n",
    "    key=cv2.waitKey(1)\n",
    "    if key==ord(\"s\"):\n",
    "        counter+=1\n",
    "        cv2.imwrite(f\"{folder}/Image_{time.time()}.jpg\",whiteImage)\n",
    "        print(counter)"
   ]
  },
  {
   "cell_type": "markdown",
   "id": "6deeeb64",
   "metadata": {},
   "source": [
    "## Model Testing"
   ]
  },
  {
   "cell_type": "code",
   "execution_count": 1,
   "id": "7d380be0",
   "metadata": {},
   "outputs": [
    {
     "ename": "NameError",
     "evalue": "name 'cv2' is not defined",
     "output_type": "error",
     "traceback": [
      "\u001b[1;31m---------------------------------------------------------------------------\u001b[0m",
      "\u001b[1;31mNameError\u001b[0m                                 Traceback (most recent call last)",
      "Input \u001b[1;32mIn [1]\u001b[0m, in \u001b[0;36m<cell line: 1>\u001b[1;34m()\u001b[0m\n\u001b[1;32m----> 1\u001b[0m cap\u001b[38;5;241m=\u001b[39m\u001b[43mcv2\u001b[49m\u001b[38;5;241m.\u001b[39mVideoCapture(\u001b[38;5;241m0\u001b[39m)\n\u001b[0;32m      2\u001b[0m detector\u001b[38;5;241m=\u001b[39mHandDetector(maxHands\u001b[38;5;241m=\u001b[39m\u001b[38;5;241m1\u001b[39m)\n\u001b[0;32m      3\u001b[0m \u001b[38;5;66;03m# Classifier\u001b[39;00m\n",
      "\u001b[1;31mNameError\u001b[0m: name 'cv2' is not defined"
     ]
    }
   ],
   "source": [
    "cap=cv2.VideoCapture(0)\n",
    "detector=HandDetector(maxHands=1)\n",
    "# Classifier\n",
    "classifier=Classifier(\"models/keras_model.h5\",\"models/labels.txt\")\n",
    "\n",
    "offset=20\n",
    "imageSIZE=300\n",
    "\n",
    "folder=\"dataset/a\"\n",
    "counter=0\n",
    "\n",
    "labels=[\"1\",\"0\",\"2\",\"3\",\"4\" ]\n",
    "\n",
    "while True:\n",
    "    success,img=cap.read()\n",
    "    imgoutput=img.copy()\n",
    "    hands,img=detector.findHands(img)\n",
    "    if hands:\n",
    "        hand=hands[0]\n",
    "        x,y,w,h=hand['bbox']\n",
    "        \n",
    "        whiteImage=np.ones((imageSIZE,imageSIZE,3),np.uint8)*255\n",
    "        crop=img[y-offset:y+h+offset,x-offset:x+w+offset]\n",
    "        \n",
    "        aspectRatio=h/w\n",
    "        if aspectRatio>1:\n",
    "            k=imageSIZE/h\n",
    "            wcalc=math.ceil(k*w)\n",
    "            imgresize=cv2.resize(crop,(wcalc,imageSIZE))\n",
    "            wgap=math.ceil((imageSIZE -wcalc)/2)\n",
    "            whiteImage[0:,wgap:wcalc+wgap]=imgresize \n",
    "            prediction,index=classifier.getPrediction(img)\n",
    "            print(prediction,index)\n",
    "            \n",
    "        else: \n",
    "            k=imageSIZE/h\n",
    "            hcalc=math.ceil(k*h)\n",
    "            imgresize=cv2.resize(crop,(imageSIZE,hcalc))\n",
    "            hgap=math.ceil((imageSIZE -hcalc)/2)\n",
    "            whiteImage[hgap:hcalc+hgap,:]=imgresize \n",
    "            prediction,index=classifier.getPrediction(img)\n",
    "        cv2.putText(imgoutput,labels[index]\n",
    "                    ,(x,y-20),cv2.FONT_HERSHEY_COMPLEX,2,(255,0,255),2 )\n",
    "                \n",
    "        cv2.imshow(\"Cropped Image\",crop)\n",
    "        cv2.imshow(\"White Image\",whiteImage)\n",
    "    cv2.imshow(\"Image\",imgoutput)\n",
    "    cv2.waitKey(1)"
   ]
  },
  {
   "cell_type": "code",
   "execution_count": null,
   "id": "26efa429",
   "metadata": {},
   "outputs": [],
   "source": []
  }
 ],
 "metadata": {
  "kernelspec": {
   "display_name": "Python 3 (ipykernel)",
   "language": "python",
   "name": "python3"
  },
  "language_info": {
   "codemirror_mode": {
    "name": "ipython",
    "version": 3
   },
   "file_extension": ".py",
   "mimetype": "text/x-python",
   "name": "python",
   "nbconvert_exporter": "python",
   "pygments_lexer": "ipython3",
   "version": "3.10.6"
  }
 },
 "nbformat": 4,
 "nbformat_minor": 5
}
